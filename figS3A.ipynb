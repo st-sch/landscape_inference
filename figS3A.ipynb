{
 "cells": [
  {
   "cell_type": "code",
   "execution_count": null,
   "id": "1ca144af",
   "metadata": {
    "ExecuteTime": {
     "end_time": "2024-10-28T00:08:07.896545Z",
     "start_time": "2024-10-28T00:08:04.380076Z"
    }
   },
   "outputs": [],
   "source": [
    "import pandas as pd, numpy as np, random as rd\n",
    "from scipy.optimize import minimize\n",
    "from scipy.stats import pearsonr\n",
    "from scipy.special import binom\n",
    "from sympy import fwht, ifwht\n",
    "import src.landscape_tools as lstoo\n",
    "import matplotlib as mpl, matplotlib.pyplot as plt\n",
    "\n",
    "# LaTeX font for plots\n",
    "plt.rcParams.update({\n",
    "    'font.family': 'serif',  # use serif/main font for text elements\n",
    "    'text.usetex': True,     # use inline math for ticks\n",
    "})"
   ]
  },
  {
   "cell_type": "code",
   "execution_count": null,
   "id": "22949d80",
   "metadata": {
    "ExecuteTime": {
     "end_time": "2024-10-28T00:08:10.445602Z",
     "start_time": "2024-10-28T00:08:10.425916Z"
    }
   },
   "outputs": [],
   "source": [
    "# length of sequence and number of spin states\n",
    "L, q = 10, 2\n",
    "# number/name of all sites\n",
    "sites = [26, 27, 28, 31, 35, 50, 53, 56, 57, 58]\n",
    "# names of key mutations (X=V/L/I)\n",
    "muts = ['G26E', 'F27X', 'T28I', 'S31R', 'S35T', 'V50L', 'S53P', 'S56T', 'T57A', 'Y58F']"
   ]
  },
  {
   "cell_type": "code",
   "execution_count": null,
   "id": "2c4e1a8e-17c3-4b1e-9b9b-1db647ab93dd",
   "metadata": {
    "ExecuteTime": {
     "end_time": "2024-10-28T00:08:11.500869Z",
     "start_time": "2024-10-28T00:08:11.388671Z"
    }
   },
   "outputs": [],
   "source": [
    "# mapping site number to vector index\n",
    "pos2i = {pos: i for i, pos in enumerate(sites)}\n",
    "\n",
    "# load sequence count data\n",
    "data = pd.read_csv('data/COV107_mutlib_fit_filtered_exp.tsv', sep='\\t')\n",
    "\n",
    "# convert column 'mut' in the data file to spin chains of 0/1s\n",
    "seqs = []\n",
    "for x in range(len(data)):\n",
    "    seq = [0 for i in range(L)]\n",
    "    for mut in data['mut'][x].split('-'):\n",
    "        if mut != 'WT':\n",
    "            seq[pos2i[int(mut[1:-1])]] = 1\n",
    "    seqs.append(tuple(seq))\n",
    "data['mut'] = seqs\n",
    "\n",
    "# group by sequence and sum sequence counts & rename and drop columns\n",
    "data.drop(columns=['mutclass','exp1_enrich','exp2_enrich'], inplace=True)\n",
    "data.rename(columns={'mut':'seq', 'input_Count':'ni', 'exp1_count':'no1', 'exp2_count':'no2'}, inplace=True)\n",
    "data = data.groupby('seq').sum().reset_index()\n",
    "\n",
    "# compute empirical enrichments as log-enrichments\n",
    "data['F1_emp'], data['F2_emp'] = np.log((1.+data.no1) / (1.+data.ni)), np.log((1.+data.no2) / (1.+data.ni))\n",
    "\n",
    "# enumerate all possible sequences and sort dataframe\n",
    "seqs = lstoo.seqlist(q=q, L=L)\n",
    "data['seq'] = pd.Categorical(data['seq'], categories=seqs, ordered=True)\n",
    "data.sort_values('seq').reset_index(drop=True)\n",
    "\n",
    "# subtract offset to have germline at zero fitness\n",
    "data['F1_emp'] -= data.F1_emp.iloc[0]\n",
    "data['F2_emp'] -= data.F2_emp.iloc[0]"
   ]
  },
  {
   "cell_type": "markdown",
   "id": "dd9b33ab-4518-4c9a-a41a-830dbf7b28ba",
   "metadata": {},
   "source": [
    "## cross-validation for specific epistasis models using maximum likelihood inference"
   ]
  },
  {
   "cell_type": "code",
   "execution_count": null,
   "id": "fc85a6a9",
   "metadata": {
    "ExecuteTime": {
     "end_time": "2024-10-25T12:18:26.463258Z",
     "start_time": "2024-10-25T12:18:26.453919Z"
    }
   },
   "outputs": [],
   "source": [
    "# random partition of the q**L genotypes and their count data into batches\n",
    "# set seed for reproducible batches\n",
    "rd.seed(1)\n",
    "# number of batches\n",
    "nbatches = 10\n",
    "# do the batch assignment\n",
    "data['batch'] = [rd.randint(1, nbatches) for _ in range(q**L)]"
   ]
  },
  {
   "cell_type": "code",
   "execution_count": null,
   "id": "8a55d6a7",
   "metadata": {
    "ExecuteTime": {
     "end_time": "2024-10-25T14:02:20.377260Z",
     "start_time": "2024-10-25T13:58:52.091792Z"
    },
    "scrolled": true
   },
   "outputs": [],
   "source": [
    "# replicas\n",
    "rs = [1, 2]\n",
    "\n",
    "# maximum max order of sequence site interactions in specific epistasis model\n",
    "order_max = 5\n",
    "\n",
    "# log-likelihood function\n",
    "def loglike(X, ni, no):\n",
    "    F = M.dot(X)\n",
    "    return -( (no*F).sum() - no.sum()*np.log((ni*np.exp(F)).sum()) ) / q**L\n",
    "\n",
    "# iterate over experimental replicates\n",
    "for r in rs:\n",
    "\n",
    "    # dictionary to collect inferred model parameters for all orders and batches\n",
    "    ress = {}\n",
    "    \n",
    "    # iterate over max orders of site interactions\n",
    "    for order in range(1, 5+1):\n",
    "        # iterate over test batches (to be removed for inference step)\n",
    "        for b in range(1, nbatches+1):\n",
    "\n",
    "            # remove test batch from sequence count data\n",
    "            data_batch = data[data.batch != b]\n",
    "            print(f' doing replicate {r} order {order} batch {b} no. training sequences: {len(data_batch)}')\n",
    "\n",
    "            # matrix in F=M.X where F = vector of fitness values, X = vector of model parameters\n",
    "            # restricted to training set genotypes\n",
    "            M = lstoo.mkM(q=q, L=L, order=order, seqs=data_batch.seq)\n",
    "\n",
    "            # model inference using maximum likelihood\n",
    "            res = minimize(loglike,\n",
    "                           x0 = np.zeros(M.shape[1]),\n",
    "                           args = (data_batch.ni, data_batch[f'no{str(r)}']),\n",
    "                           method = 'BFGS', tol = 1e-3,\n",
    "                          )#callback = lambda y: print(loglike(y, data_batch.ni, data_batch[f'no{str(r)}'])))\n",
    "            \n",
    "            # collect model parameters\n",
    "            ress[(order,b)] = res.x\n",
    "    \n",
    "    # save model parameters to external file\n",
    "    np.save(f'output/1c_repl{str(r)}_crossvalidation.npy', ress)"
   ]
  },
  {
   "cell_type": "markdown",
   "id": "05f43da1-ba95-4175-b5f7-d15bbe8e063c",
   "metadata": {},
   "source": [
    "## plot cross-validation data"
   ]
  },
  {
   "cell_type": "code",
   "execution_count": null,
   "id": "fe087174",
   "metadata": {
    "ExecuteTime": {
     "end_time": "2024-10-25T13:06:49.259657Z",
     "start_time": "2024-10-25T13:06:49.230731Z"
    }
   },
   "outputs": [],
   "source": [
    "# collector list for cross-validation results\n",
    "rsqs = []\n",
    "\n",
    "# iterate over experimental replicates\n",
    "for r in [1,2]:\n",
    "\n",
    "    # load cross-validation data\n",
    "    ress = np.load(f'output/1c_repl{str(r)}_crossvalidation.npy', allow_pickle=True).item()\n",
    "\n",
    "    # iterate over model orders\n",
    "    for order in range(1, order_max+1):\n",
    "\n",
    "        # get matrix for F = M.X\n",
    "        M = lstoo.mkM(q=q, L=L, order=order)\n",
    "\n",
    "        # iterate over test batches:\n",
    "        for b in range(1, nbatches+1):\n",
    "\n",
    "            # compute fitness values of the model fitted to training batches\n",
    "            F_model = M.dot(ress[(order,b)])\n",
    "            # compute explained variance on test batch\n",
    "            rsq = pearsonr(F_model[data.batch==b], data.F1_emp[data.batch==b])[0]**2\n",
    "            # collect Rsquare values\n",
    "            rsqs.append([r, order, rsq])\n",
    "\n",
    "# create dataframe of Rsquare values by replicate experiment and model order\n",
    "data_crossvalid = pd.DataFrame(rsqs, columns=['replicate','order','Rsq'])"
   ]
  },
  {
   "cell_type": "code",
   "execution_count": null,
   "id": "f53c7530-04b7-494a-aa00-3266946a8fb4",
   "metadata": {},
   "outputs": [],
   "source": [
    "# take mean and standard deviation over the Rsquare values for each replicate and order\n",
    "data_crossvalid = data_crossvalid.groupby(['replicate','order'])\\\n",
    "                                 .agg(['mean','std']).reset_index()"
   ]
  },
  {
   "cell_type": "code",
   "execution_count": null,
   "id": "d25bf8a8",
   "metadata": {},
   "outputs": [],
   "source": [
    "# create figure\n",
    "fig, ax = plt.subplots(figsize=(3.2, 2.8))\n",
    "\n",
    "# plot cross-validation data\n",
    "for r, ls in zip([1,2], ['dashed', 'dotted']):\n",
    "    to_plot = data_crossvalid[data_crossvalid.replicate==r].sort_values('order')\n",
    "    ax.errorbar(to_plot.order, to_plot.Rsq['mean'], yerr=to_plot.Rsq['std'], c='k', ls=ls)\n",
    "\n",
    "# layout\n",
    "ax.set_xticks(range(1, 5+1))\n",
    "ax.tick_params(labelsize=15)\n",
    "ax.set_xlabel(r'interaction order $p$', fontsize=15)\n",
    "ax.set_ylabel(r'$R^2$ on test data', fontsize=15)\n",
    "ax.legend([f'replicate {r}' for r in [1,2]], fontsize=15, loc='lower center')\n",
    "ax.grid(zorder=-1)\n",
    "\n",
    "# save plot\n",
    "plt.savefig('output/s3a_1.jpg', bbox_inches='tight', pad_inches=0.02, dpi=300)\n",
    "plt.savefig('output/s3a_1.pdf', bbox_inches='tight', pad_inches=0.02)\n",
    "plt.show()"
   ]
  },
  {
   "cell_type": "markdown",
   "id": "9ddac4ce-0541-4887-8688-e69148e91ac9",
   "metadata": {},
   "source": [
    "## bandpass filter for specific epistasis models using Walsh-Hadamard transform"
   ]
  },
  {
   "cell_type": "code",
   "execution_count": null,
   "id": "25abb887",
   "metadata": {
    "ExecuteTime": {
     "end_time": "2024-10-28T00:30:08.923650Z",
     "start_time": "2024-10-28T00:30:08.897036Z"
    }
   },
   "outputs": [],
   "source": [
    "# load empirical fitness values and those from specific epistasis model using maximum-likelihood method from external file\n",
    "data = pd.read_csv('output/1c_fitness_specific.csv')\n",
    "data['seq'] = data.seq.apply(lambda x: tuple([int(a) for a in x[1:-1].split(', ')]))"
   ]
  },
  {
   "cell_type": "code",
   "execution_count": null,
   "id": "033960ef",
   "metadata": {
    "ExecuteTime": {
     "end_time": "2024-10-28T00:30:09.776360Z",
     "start_time": "2024-10-28T00:30:09.235217Z"
    }
   },
   "outputs": [],
   "source": [
    "# compute Walsh-Hadamard transform of empirical fitness values\n",
    "fhats = [fhat/q**L for fhat in fwht(data.F1_emp)]\n",
    "# compute Walsh-Hadamard transform of fitness values in specific epistasis model inferred from maximum likelihood\n",
    "fhats_model = [fhat/q**L for fhat in fwht(data.F1_model)]\n",
    "\n",
    "# Hadamard spectrum for empirical fitness values\n",
    "betas = [np.mean([f**2 for s, f in zip(data.seq, fhats) if sum(s) == n]) for n in range(L+1)]\n",
    "# Hadamard spectrum for fitness values in specific epistasis model inferred from maximum likelihood\n",
    "betas_model = [np.mean([f**2 for s, f in zip(data.seq, fhats_model) if sum(s) == n]) for n in range(L+1)]"
   ]
  },
  {
   "cell_type": "code",
   "execution_count": null,
   "id": "e5ddae87",
   "metadata": {
    "ExecuteTime": {
     "end_time": "2024-10-28T00:30:12.926788Z",
     "start_time": "2024-10-28T00:30:11.900142Z"
    }
   },
   "outputs": [],
   "source": [
    "# create figure\n",
    "fig, ax = plt.subplots(figsize=[3.2,2.8])\n",
    "\n",
    "# plot Hadamard spectra\n",
    "ax.plot(range(L+1), betas, c='k')\n",
    "ax.plot(range(L+1), betas_model, c='k', ls='dashed')\n",
    "\n",
    "# layout\n",
    "ax.set_yscale('log')\n",
    "ax.set_ylim([1e-5, 1e0])\n",
    "ax.set_xticks(range(L+1))\n",
    "ax.set_yticks([10**(-yyy) for yyy in range(5+1)])\n",
    "ax.tick_params(labelsize=15)\n",
    "ax.set_xlabel(r'interaction order $p$', fontsize=15)\n",
    "ax.set_ylabel(r'Hadamard amplitude $\\beta_p$', fontsize=15)\n",
    "ax.grid(axis='y')\n",
    "ax.legend([r'$F_\\mathrm{emp}$', r'$F_\\mathrm{model}$'], fontsize=15, loc='upper right')\n",
    "\n",
    "# save plot\n",
    "plt.savefig('output/s3a_2.jpg', bbox_inches='tight', pad_inches=0.02, dpi=300)\n",
    "plt.savefig('output/s3a_2.pdf', bbox_inches='tight', pad_inches=0.02)\n",
    "plt.show()"
   ]
  },
  {
   "cell_type": "markdown",
   "id": "72119be6",
   "metadata": {
    "ExecuteTime": {
     "end_time": "2024-10-28T00:22:28.759724Z",
     "start_time": "2024-10-28T00:22:28.749164Z"
    }
   },
   "source": [
    "## \"fit\" specific epistasis model using Walsh-Hadamard transform"
   ]
  },
  {
   "cell_type": "code",
   "execution_count": null,
   "id": "e8405e07",
   "metadata": {
    "ExecuteTime": {
     "end_time": "2024-10-28T00:29:49.415920Z",
     "start_time": "2024-10-28T00:29:49.304060Z"
    }
   },
   "outputs": [],
   "source": [
    "# set all Hadamard coefficients beyond maximum interaction order to zero\n",
    "order = 3\n",
    "fhats_trunc = np.array(fhats)\n",
    "fhats_trunc[int(sum(binom(L, p) for p in range(order+1))):] = 0.\n",
    "\n",
    "# obtain fitness values from inverse Walsh-Hadamard transform on the truncated Hadamard spectrum\n",
    "data_walsh = data.copy(deep=True)[['ni','no1','no2','F1_emp','F2_emp']]\n",
    "data_walsh['F1_model'] = [q**L*f for f in ifwht(fhats_trunc)]"
   ]
  },
  {
   "cell_type": "code",
   "execution_count": null,
   "id": "b3f51145",
   "metadata": {
    "ExecuteTime": {
     "end_time": "2024-10-28T00:29:55.684654Z",
     "start_time": "2024-10-28T00:29:55.605274Z"
    }
   },
   "outputs": [],
   "source": [
    "# save fitness dataframe to external file\n",
    "data_walsh.to_csv('output/1c_fitness_walsh.csv', index=False)"
   ]
  },
  {
   "cell_type": "code",
   "execution_count": null,
   "id": "6ff28528",
   "metadata": {},
   "outputs": [],
   "source": []
  }
 ],
 "metadata": {
  "kernelspec": {
   "display_name": "Python 3 (ipykernel)",
   "language": "python",
   "name": "python3"
  },
  "language_info": {
   "codemirror_mode": {
    "name": "ipython",
    "version": 3
   },
   "file_extension": ".py",
   "mimetype": "text/x-python",
   "name": "python",
   "nbconvert_exporter": "python",
   "pygments_lexer": "ipython3",
   "version": "3.12.5"
  },
  "toc": {
   "base_numbering": 1,
   "nav_menu": {},
   "number_sections": true,
   "sideBar": true,
   "skip_h1_title": false,
   "title_cell": "Table of Contents",
   "title_sidebar": "Contents",
   "toc_cell": true,
   "toc_position": {},
   "toc_section_display": true,
   "toc_window_display": false
  }
 },
 "nbformat": 4,
 "nbformat_minor": 5
}
