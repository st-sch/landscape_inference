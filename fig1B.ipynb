{
 "cells": [
  {
   "cell_type": "markdown",
   "id": "3324b6fa",
   "metadata": {},
   "source": [
    "# figure 1B"
   ]
  },
  {
   "cell_type": "code",
   "execution_count": null,
   "id": "e1eba2ca",
   "metadata": {
    "ExecuteTime": {
     "end_time": "2024-10-27T11:19:28.069009Z",
     "start_time": "2024-10-27T11:19:19.519017Z"
    }
   },
   "outputs": [],
   "source": [
    "import pandas as pd, numpy as np, mavenn\n",
    "import src.landscape_tools as lstoo, src.plot_tools as plottoo\n",
    "import matplotlib as mpl, matplotlib.pyplot as plt, matplotlib.patches as mpatches\n",
    "from mpl_toolkits.axes_grid1 import make_axes_locatable\n",
    "\n",
    "# LaTeX font for plots\n",
    "plt.rcParams.update({\n",
    "    'font.family': 'serif',  # use serif/main font for text elements\n",
    "    'text.usetex': True,     # use inline math for ticks\n",
    "})"
   ]
  },
  {
   "cell_type": "code",
   "execution_count": null,
   "id": "13bd6afa",
   "metadata": {
    "ExecuteTime": {
     "end_time": "2024-10-27T11:19:30.378320Z",
     "start_time": "2024-10-27T11:19:30.369894Z"
    }
   },
   "outputs": [],
   "source": [
    "# length of sequence and number of spin states\n",
    "L, q = 10, 2\n",
    "# number/name of all sites\n",
    "sites = [26, 27, 28, 31, 35, 50, 53, 56, 57, 58]\n",
    "# names of key mutations (X=V/L/I)\n",
    "muts = ['G26E', 'F27X', 'T28I', 'S31R', 'S35T', 'V50L', 'S53P', 'S56T', 'T57A', 'Y58F']"
   ]
  },
  {
   "cell_type": "code",
   "execution_count": null,
   "id": "6b731e7e",
   "metadata": {
    "ExecuteTime": {
     "end_time": "2024-10-27T11:19:32.711273Z",
     "start_time": "2024-10-27T11:19:32.626835Z"
    }
   },
   "outputs": [],
   "source": [
    "# mapping site number to vector index\n",
    "pos2i = {pos: i for i, pos in enumerate(sites)}\n",
    "\n",
    "# load sequence count data\n",
    "data = pd.read_csv('data/COV107_mutlib_fit_filtered_exp.tsv', sep='\\t')\n",
    "\n",
    "# convert column 'mut' in the data file to spin chains of 0/1s\n",
    "seqs = []\n",
    "for x in range(len(data)):\n",
    "    seq = [0 for i in range(L)]\n",
    "    for mut in data['mut'][x].split('-'):\n",
    "        if mut != 'WT':\n",
    "            seq[pos2i[int(mut[1:-1])]] = 1\n",
    "    seqs.append(tuple(seq))\n",
    "data['mut'] = seqs\n",
    "\n",
    "# group by sequence and sum sequence counts & rename and drop columns\n",
    "data.drop(columns=['mutclass','exp1_enrich','exp2_enrich'], inplace=True)\n",
    "data.rename(columns={'mut':'seq', 'input_Count':'ni', 'exp1_count':'no1', 'exp2_count':'no2'}, inplace=True)\n",
    "data = data.groupby('seq').sum().reset_index()\n",
    "\n",
    "# compute empirical enrichments as log-enrichments\n",
    "data['F1_emp'], data['F2_emp'] = np.log((1.+data.no1) / (1.+data.ni)), np.log((1.+data.no2) / (1.+data.ni))\n",
    "\n",
    "# enumerate all possible sequences and sort dataframe\n",
    "seqs = lstoo.seqlist(q=q, L=L)\n",
    "data['seq'] = pd.Categorical(data['seq'], categories=seqs, ordered=True)\n",
    "data.sort_values('seq').reset_index(drop=True)\n",
    "\n",
    "# subtract offset to have germline at zero fitness\n",
    "data['F1_emp'] -= data.F1_emp.iloc[0]\n",
    "data['F2_emp'] -= data.F2_emp.iloc[0]"
   ]
  },
  {
   "cell_type": "markdown",
   "id": "876bde94",
   "metadata": {},
   "source": [
    "## fit global epistasis model"
   ]
  },
  {
   "cell_type": "code",
   "execution_count": null,
   "id": "ed5792bb",
   "metadata": {
    "ExecuteTime": {
     "end_time": "2024-10-27T11:19:39.049444Z",
     "start_time": "2024-10-27T11:19:38.980279Z"
    }
   },
   "outputs": [],
   "source": [
    "# make Pandas dataframe with training/test data (here: all data is training data)\n",
    "np.random.seed(1)\n",
    "seqs_str = [''.join([str(a) for a in s]) for s in data.seq]\n",
    "data_df = pd.DataFrame({'x': seqs_str, 'y': data.F1_emp,\n",
    "                        'set': [np.random.choice(['training', 'test'], p=[1., 0.]) for s in seqs]})\n",
    "\n",
    "# separate test from data_df (here: all data is training data)\n",
    "ix_test = data_df['set'] == 'test'\n",
    "test_df = data_df[ix_test].reset_index(drop=True)\n",
    "print(f'number of test sequences: {len(test_df):,}')\n",
    "\n",
    "# remove test data from data_df\n",
    "data_df = data_df[~ix_test].reset_index(drop=True)\n",
    "print(f'sequences to be used for training + validation: {len(data_df):,}')"
   ]
  },
  {
   "cell_type": "code",
   "execution_count": null,
   "id": "68065dcd-3587-4615-a2a1-2a84c63b8394",
   "metadata": {},
   "outputs": [],
   "source": [
    "# define model (boolean alphabet, additive latent phenotype)\n",
    "model = mavenn.Model(L=L,\n",
    "                     alphabet=['0', '1'],\n",
    "                     gpmap_type='additive',\n",
    "                     regression_type='GE',\n",
    "                     ge_noise_model_type='Gaussian',\n",
    "                     ge_heteroskedasticity_order=0,\n",
    "                     ge_nonlinearity_hidden_nodes=1)\n",
    "\n",
    "# set training data\n",
    "model.set_data(x=data_df.x,\n",
    "               y=data_df.y,\n",
    "               validation_frac = .2,\n",
    "               shuffle=True)\n",
    "\n",
    "# fit model to data\n",
    "history = model.fit(learning_rate=.005,\n",
    "                    epochs=1000,\n",
    "                    batch_size=q**L,\n",
    "                    early_stopping=False,\n",
    "                    linear_initialization=False)\n",
    "\n",
    "# save model\n",
    "model.save('output/1b_repl1')"
   ]
  },
  {
   "cell_type": "markdown",
   "id": "9d675c86",
   "metadata": {},
   "source": [
    "## plot global epistasis model"
   ]
  },
  {
   "cell_type": "code",
   "execution_count": null,
   "id": "e7c22557",
   "metadata": {
    "ExecuteTime": {
     "end_time": "2024-10-27T11:20:43.089085Z",
     "start_time": "2024-10-27T11:20:42.885215Z"
    }
   },
   "outputs": [],
   "source": [
    "# load fitted global epistasis model\n",
    "model = mavenn.load('output/1b_repl1')\n",
    "\n",
    "# extract local fields h_i\n",
    "theta = model.get_theta()\n",
    "h = theta['theta_lc'][:,1] - theta['theta_lc'][:,0]\n",
    "\n",
    "# predict latent phenotype values (phi) & fitness g(phi) for all sequences\n",
    "phis = model.x_to_phi(seqs_str)\n",
    "yhats = model.x_to_yhat(seqs_str)\n",
    "data['F1_model'] = yhats\n",
    "\n",
    "# set phi lims and create grid in phi space, compute fitness for each phi gridpoint\n",
    "phi_lim = [min(phis)-.5, max(phis)+.5]\n",
    "phi_grid = np.linspace(phi_lim[0], phi_lim[1], 1000)\n",
    "yhat_grid = model.phi_to_yhat(phi_grid)"
   ]
  },
  {
   "cell_type": "code",
   "execution_count": null,
   "id": "116ee2ce",
   "metadata": {
    "ExecuteTime": {
     "end_time": "2024-10-27T11:20:45.074245Z",
     "start_time": "2024-10-27T11:20:45.032331Z"
    }
   },
   "outputs": [],
   "source": [
    "# save fitness dataframe to external file\n",
    "data.to_csv('output/1c_fitness_global.csv')"
   ]
  },
  {
   "cell_type": "code",
   "execution_count": null,
   "id": "5a51a775",
   "metadata": {
    "ExecuteTime": {
     "end_time": "2024-10-27T11:20:50.270521Z",
     "start_time": "2024-10-27T11:20:48.558685Z"
    }
   },
   "outputs": [],
   "source": [
    "# create figure\n",
    "fig, ax = plt.subplots(figsize=(1., 3.2))\n",
    "\n",
    "# color map\n",
    "hmin, hmax = np.nanmin(h), np.nanmax(h)\n",
    "cmap = plottoo.shiftedColorMap(mpl.cm.bwr_r, midpoint=abs(hmin)/(hmax+abs(hmin)))\n",
    "\n",
    "# plot local fields\n",
    "im = ax.imshow(h[:,np.newaxis], cmap=cmap)\n",
    "\n",
    "# layout\n",
    "ax.plot([-.5,.5], [(L-1)/2, (L-1)/2], c='k', linestyle='--')\n",
    "labels = [r'\\texttt{%s}'%st[1:-1] for st in muts]\n",
    "ax.set_xticks([])\n",
    "ax.set_yticks(range(L))\n",
    "ax.set_yticklabels(labels)\n",
    "ax.tick_params(labelsize=15)\n",
    "\n",
    "# colorbar\n",
    "fig.subplots_adjust(right=0.8)\n",
    "cbar_ax = fig.add_axes([0.85, 0.15, 0.1, 0.7])\n",
    "cb = fig.colorbar(im, cax=cbar_ax)\n",
    "cb.ax.tick_params(labelsize=15)\n",
    "cb.set_ticks([-.5,0.,.5,1.])\n",
    "\n",
    "# save plot\n",
    "plottoo.set_size(.625,2)\n",
    "plt.savefig('output/1b_1.jpg', bbox_inches='tight', pad_inches=0.02, dpi=300)#_singlemode\n",
    "plt.savefig('output/1b_1.pdf', bbox_inches='tight', pad_inches=0.02)#_singlemode\n",
    "plt.show()"
   ]
  },
  {
   "cell_type": "code",
   "execution_count": null,
   "id": "d9bcfe31",
   "metadata": {
    "ExecuteTime": {
     "end_time": "2024-10-27T11:20:54.850447Z",
     "start_time": "2024-10-27T11:20:53.702566Z"
    }
   },
   "outputs": [],
   "source": [
    "# sequence site of interest\n",
    "i = 6\n",
    "\n",
    "# create figure\n",
    "fig, ax = plt.subplots(figsize=(3.2, 2.8))\n",
    "\n",
    "# colors according to state of sequence site of interest\n",
    "cs = ['C0' if s[i]==0 else 'C1' for s in data.seq]\n",
    "\n",
    "# scatter empirical vs. model fitness\n",
    "ax.scatter(phis, data.F1_emp, c=cs, s=5, alpha=.5, zorder=5)\n",
    "ax.plot(phi_grid, yhat_grid, c='k', lw=2, zorder=5)\n",
    "\n",
    "# layout\n",
    "ax.set_xlim(phi_lim)\n",
    "ax.tick_params(labelsize=15)\n",
    "ax.set_xlabel('latent phenotype $\\phi(\\mathbf{s})$', fontsize=15)\n",
    "ax.set_ylabel('$F_\\mathrm{emp}(\\mathbf{s})$', fontsize=15)\n",
    "ax.grid(zorder=5)\n",
    "\n",
    "# legend\n",
    "handles = [mpatches.Patch(color=c) for c in ['C0', 'C1', 'k']]\n",
    "ax.legend(handles=handles, labels=[r'wild-type', r'mutated', r'$g(\\phi)$'],\n",
    "          loc='lower right', fontsize=12)\n",
    "\n",
    "# save plot\n",
    "plt.savefig('output/1b_2.jpg', bbox_inches='tight', pad_inches=0.02, dpi=300)\n",
    "plt.savefig('output/1b_2.pdf', bbox_inches='tight', pad_inches=0.02)\n",
    "plt.show()"
   ]
  },
  {
   "cell_type": "code",
   "execution_count": null,
   "id": "a5f13b28",
   "metadata": {
    "ExecuteTime": {
     "end_time": "2024-10-27T11:20:57.383899Z",
     "start_time": "2024-10-27T11:20:56.510861Z"
    }
   },
   "outputs": [],
   "source": [
    "# create landscape object using global fitness model data\n",
    "lsmodel = lstoo.EmpLS(L=L, q=q, seqs=data.seq, fs=data.F1_model, default=np.nan)\n",
    "\n",
    "# compute epistatic effect matrix (gamma_ij)\n",
    "fitness = lambda seq: lsmodel.fitness(seq)\n",
    "gammaijs = lstoo.gammaij(L, seqs, fitness)"
   ]
  },
  {
   "cell_type": "code",
   "execution_count": null,
   "id": "37d0beb1",
   "metadata": {
    "ExecuteTime": {
     "end_time": "2024-10-27T11:21:00.507794Z",
     "start_time": "2024-10-27T11:20:59.298673Z"
    }
   },
   "outputs": [],
   "source": [
    "# create figure\n",
    "fig, ax = plt.subplots(figsize=(2.8, 2.8), constrained_layout=True)\n",
    "\n",
    "# plot gamma_ij matrix\n",
    "im = ax.imshow(gammaijs, cmap=mpl.cm.bwr_r, vmin=-1., vmax=1.)\n",
    "\n",
    "# layout\n",
    "ax.plot([-1., L+1], [(L-1)/2, (L-1)/2], c='k', linestyle='--')\n",
    "ax.plot([(L-1)/2, (L-1)/2], [-1., L+1], c='k', linestyle='--')\n",
    "labels = [r'\\texttt{%s}'%st[1:-1] for st in muts]\n",
    "ax.set_xticks(range(L))\n",
    "ax.set_xticklabels(labels, rotation='vertical')#range(1,L+1))\n",
    "ax.set_yticks(range(L))\n",
    "ax.set_yticklabels(labels)\n",
    "ax.tick_params(labelsize=15)\n",
    "ax.set_xlabel(r'$j$', fontsize=15)\n",
    "ax.set_ylabel(r'$i$', fontsize=15)\n",
    "ax.set_xlim([-.5, L-.5])\n",
    "ax.set_ylim([L-.5, -.5])\n",
    "\n",
    "# colorbar\n",
    "divider = make_axes_locatable(ax)\n",
    "cax = divider.append_axes('right', size='5%', pad=.05)\n",
    "cb = plt.colorbar(im, cax=cax)\n",
    "cb.ax.tick_params(labelsize=15)\n",
    "cb.set_ticks([-1,0,1])\n",
    "\n",
    "# save plot\n",
    "plottoo.set_size(2,2)\n",
    "plt.savefig('output/1b_3.jpg', bbox_inches='tight', pad_inches=0.02, dpi=300)\n",
    "plt.savefig('output/1b_3.pdf', bbox_inches='tight', pad_inches=0.02)\n",
    "plt.show()"
   ]
  },
  {
   "cell_type": "code",
   "execution_count": null,
   "id": "46a531b1",
   "metadata": {},
   "outputs": [],
   "source": []
  }
 ],
 "metadata": {
  "kernelspec": {
   "display_name": "Python 3 (ipykernel)",
   "language": "python",
   "name": "python3"
  },
  "language_info": {
   "codemirror_mode": {
    "name": "ipython",
    "version": 3
   },
   "file_extension": ".py",
   "mimetype": "text/x-python",
   "name": "python",
   "nbconvert_exporter": "python",
   "pygments_lexer": "ipython3",
   "version": "3.12.5"
  },
  "toc": {
   "base_numbering": 1,
   "nav_menu": {},
   "number_sections": true,
   "sideBar": true,
   "skip_h1_title": false,
   "title_cell": "Table of Contents",
   "title_sidebar": "Contents",
   "toc_cell": true,
   "toc_position": {},
   "toc_section_display": true,
   "toc_window_display": false
  }
 },
 "nbformat": 4,
 "nbformat_minor": 5
}
