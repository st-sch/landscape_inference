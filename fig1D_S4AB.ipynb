{
 "cells": [
  {
   "cell_type": "markdown",
   "id": "8de1b0e4-d97e-477c-9e72-87532393bc5a",
   "metadata": {
    "execution": {
     "iopub.execute_input": "2024-10-25T09:05:58.598046Z",
     "iopub.status.busy": "2024-10-25T09:05:58.595614Z",
     "iopub.status.idle": "2024-10-25T09:05:58.605766Z",
     "shell.execute_reply": "2024-10-25T09:05:58.604154Z",
     "shell.execute_reply.started": "2024-10-25T09:05:58.598046Z"
    }
   },
   "source": [
    "# figure 1D"
   ]
  },
  {
   "cell_type": "code",
   "execution_count": null,
   "id": "e105ce7b-93d1-46e9-89a9-c9f8c77b633d",
   "metadata": {},
   "outputs": [],
   "source": [
    "import pandas as pd, numpy as np, igraph as ig, random as rd\n",
    "from sklearn.cluster import DBSCAN\n",
    "import src.landscape_tools as lstoo\n",
    "import matplotlib as mpl, matplotlib.pyplot as plt\n",
    "\n",
    "# LaTeX font for plots\n",
    "plt.rcParams.update({\n",
    "    'font.family': 'serif',  # use serif/main font for text elements\n",
    "    'text.usetex': True,     # use inline math for ticks\n",
    "})"
   ]
  },
  {
   "cell_type": "code",
   "execution_count": null,
   "id": "523538a2",
   "metadata": {},
   "outputs": [],
   "source": [
    "# length of sequence and number of spin states\n",
    "L, q = 10, 2\n",
    "# number/name of all sites\n",
    "sites = [26, 27, 28, 31, 35, 50, 53, 56, 57, 58]\n",
    "# names of key mutations (X=V/L/I)\n",
    "muts = ['G26E', 'F27X', 'T28I', 'S31R', 'S35T', 'V50L', 'S53P', 'S56T', 'T57A', 'Y58F']"
   ]
  },
  {
   "cell_type": "markdown",
   "id": "e6508619-ac1d-46ee-8129-5e2b881456e9",
   "metadata": {},
   "source": [
    "## compute landscape embedding"
   ]
  },
  {
   "cell_type": "code",
   "execution_count": null,
   "id": "0360034c",
   "metadata": {},
   "outputs": [],
   "source": [
    "# load fitness dataframe for the specific epistasis model\n",
    "data = pd.read_csv('output/1c_fitness_specific.csv')\n",
    "data['seq'] = [tuple([int(x) for x in s[1:-1].split(',')]) for s in data.seq]\n",
    "\n",
    "# create model landscape object\n",
    "ls_model = lstoo.EmpLS(L=L, q=q, seqs=data.seq, fs=data.F1_model, default=np.nan)\n",
    "\n",
    "# compute fitness peaks\n",
    "ls_max = lstoo.locmax(q, L, lambda seq: ls_model.fitness(seq), avseqs=[], nrmax=np.inf)"
   ]
  },
  {
   "cell_type": "code",
   "execution_count": null,
   "id": "51603315",
   "metadata": {},
   "outputs": [],
   "source": [
    "# maximum Hamming distance up to which network nodes should be connected by edges\n",
    "ds = [1, 2]\n",
    "\n",
    "# collector dictionaries for networks, weights and embeddings\n",
    "gs, weights, layouts = {}, {}, {}\n",
    "\n",
    "for d in ds:\n",
    "    \n",
    "    # create network object\n",
    "    gs[d] = ig.Graph(q**L)\n",
    "    \n",
    "    # add genotype sequences and fitness as node properties\n",
    "    gs[d].vs['id'], gs[d].vs['F'] = data.seq.tolist(), data.F1_model.tolist()\n",
    "\n",
    "    # add edges to all node pairs which are within the maximum Hamming distance\n",
    "    gs[d].add_edges([(x, y) for x, s1 in enumerate(data.seq) for y, s2 in enumerate(data.seq)\n",
    "                     if lstoo.dH(s1, s2) in range(1, d+1) and sum(s1)>sum(s2)])\n",
    "    print(f'dmax={d}', gs[d].summary())\n",
    "    \n",
    "    # list of edge weights in the network\n",
    "    weights[d] = [1./(.001+abs(gs[d].vs[x]['F']-gs[d].vs[y]['F'])) for x, s1 in enumerate(data.seq)\n",
    "                  for y, s2 in enumerate(data.seq) if lstoo.dH(s1, s2) in range(1, d+1) and sum(s1)>sum(s2)]"
   ]
  },
  {
   "cell_type": "code",
   "execution_count": null,
   "id": "38331b70",
   "metadata": {},
   "outputs": [],
   "source": [
    "for d in ds:\n",
    "    \n",
    "    # set random number seed for reproducible embeddings\n",
    "    rd.seed(1)\n",
    "    np.random.seed(1)\n",
    "    seed = np.random.uniform(size=(q**L, 2))\n",
    "    \n",
    "    # compute force-directed network layout\n",
    "    layouts[d] = gs[d].layout_drl(weights=weights[d], seed=seed)\n",
    "    layouts[d] = np.array(layouts[d])"
   ]
  },
  {
   "cell_type": "code",
   "execution_count": null,
   "id": "958ce90a-a2f4-408c-a2df-b538d305ba89",
   "metadata": {},
   "outputs": [],
   "source": [
    "# save landscape embeddings to external file\n",
    "np.save('output/1d_1.npy', layouts)"
   ]
  },
  {
   "cell_type": "code",
   "execution_count": null,
   "id": "974c4e24-f41b-4e64-a40c-ec532135bfa3",
   "metadata": {},
   "outputs": [],
   "source": [
    "# load landscape embeddings from external file\n",
    "layouts = np.load('output/1d_1.npy', allow_pickle=True).item()"
   ]
  },
  {
   "cell_type": "markdown",
   "id": "a9770f99-d571-4b2c-bd56-0469f16b2e82",
   "metadata": {},
   "source": [
    "## plot landscape embedding"
   ]
  },
  {
   "cell_type": "code",
   "execution_count": null,
   "id": "b97c0d22-d42e-4a77-af19-1099977ed6c1",
   "metadata": {
    "scrolled": true
   },
   "outputs": [],
   "source": [
    "# fitness-based colors\n",
    "cs = (data.F1_model-data.F1_model.min())/(data.F1_model.max()-data.F1_model.min())\n",
    "\n",
    "for col, d in enumerate(ds):\n",
    "\n",
    "    # create figure\n",
    "    fig, ax = plt.subplots(figsize=(4., 4.), constrained_layout=True)\n",
    "    pos = np.array(layouts[d])\n",
    "\n",
    "    # plot edges between mutational neighbors\n",
    "    for x, s1 in enumerate(data.seq):\n",
    "        for y, s2 in enumerate(data.seq[:x]):\n",
    "            if lstoo.dH(s1, s2) == 1:\n",
    "                ax.plot([pos[x,0], pos[y,0]], [pos[x,1], pos[y,1]], c='gray', alpha=.025, zorder=-1)\n",
    "    \n",
    "    # plot nodes\n",
    "    im = ax.scatter(pos[:,0], pos[:,1], c=cs, cmap='viridis', s=5)\n",
    "\n",
    "    # layout\n",
    "    ax.axis('equal')\n",
    "    ax.set_xticks([])\n",
    "    ax.set_yticks([])\n",
    "\n",
    "    # markers and arrows\n",
    "    # fitness peaks\n",
    "    smax = list(ls_max.keys())\n",
    "    sind = data.seq.tolist().index(tuple([0]*L))\n",
    "    ax.arrow(pos[sind,0], pos[sind,1]-40, 0, 20, width=.25, head_width=10., color='magenta')\n",
    "    ax.scatter(pos[sind,0], pos[sind,1], c='magenta', s=5)\n",
    "\n",
    "    # local fitness maxima\n",
    "    for s in smax[1:]:\n",
    "        sind = data.seq.tolist().index(s)\n",
    "        ax.scatter(pos[sind,0], pos[sind,1], c='k', s=5)\n",
    "    \n",
    "    # global fitness maximum\n",
    "    sind = data.seq.tolist().index(smax[0])\n",
    "    ax.arrow(pos[sind,0]+40, pos[sind,1], -20, 0, width=.25, head_width=10., color='magenta')\n",
    "    ax.scatter(pos[sind,0], pos[sind,1], c='magenta', s=5)\n",
    "    \n",
    "    # despine plot\n",
    "    ax.axis('off')\n",
    "\n",
    "    # save plot\n",
    "    plt.savefig(f'output/1d_1_dH{d}.jpg', bbox_inches='tight', pad_inches=0.02, dpi=300)\n",
    "    plt.savefig(f'output/1d_1_dH{d}.pdf', bbox_inches='tight', pad_inches=0.02)\n",
    "    plt.show()"
   ]
  },
  {
   "cell_type": "code",
   "execution_count": null,
   "id": "2407cb72-3762-41a9-8724-6192b601743a",
   "metadata": {
    "scrolled": true
   },
   "outputs": [],
   "source": [
    "# hotspot state-based colors\n",
    "cs = ['C0' if seq[6]==0 else 'C1' for seq in data.seq]\n",
    "\n",
    "for col, d in enumerate(ds):\n",
    "\n",
    "    # create figure\n",
    "    fig, ax = plt.subplots(figsize=(4., 4.), constrained_layout=True)\n",
    "    pos = layouts[d]\n",
    "\n",
    "    # plot edges between mutational neighbors\n",
    "    for x, s1 in enumerate(data.seq):\n",
    "        for y, s2 in enumerate(data.seq[:x]):\n",
    "            if lstoo.dH(s1, s2) == 1:\n",
    "                ax.plot([pos[x,0], pos[y,0]], [pos[x,1], pos[y,1]], c='gray', alpha=.025, zorder=-1)\n",
    "    \n",
    "    # plot nodes\n",
    "    im = ax.scatter(pos[:,0], pos[:,1], c=cs, s=5)\n",
    "\n",
    "    # layout\n",
    "    ax.axis('equal')\n",
    "    ax.set_xticks([])\n",
    "    ax.set_yticks([])\n",
    "\n",
    "    # markers and arrows\n",
    "    # fitness peaks\n",
    "    smax = list(ls_max.keys())\n",
    "    sind = data.seq.tolist().index(tuple([0]*L))\n",
    "    ax.arrow(pos[sind,0], pos[sind,1]-40, 0, 20, width=.25, head_width=10., color='magenta')\n",
    "    ax.scatter(pos[sind,0], pos[sind,1], c='magenta', s=5)\n",
    "\n",
    "    # local fitness maxima\n",
    "    for s in smax[1:]:\n",
    "        sind = data.seq.tolist().index(s)\n",
    "        ax.scatter(pos[sind,0], pos[sind,1], c='k', s=5)\n",
    "    \n",
    "    # global fitness maximum\n",
    "    sind = data.seq.tolist().index(smax[0])\n",
    "    ax.arrow(pos[sind,0]+40, pos[sind,1], -20, 0, width=.25, head_width=10., color='magenta')\n",
    "    ax.scatter(pos[sind,0], pos[sind,1], c='magenta', s=5)\n",
    "    \n",
    "    # despine plot\n",
    "    ax.axis('off')\n",
    "\n",
    "    # save plot\n",
    "    plt.savefig(f'output/s4a_1_dH{d}.jpg', bbox_inches='tight', pad_inches=0.02, dpi=300)\n",
    "    plt.savefig(f'output/s4a_1_dH{d}.pdf', bbox_inches='tight', pad_inches=0.02)\n",
    "    plt.show()"
   ]
  },
  {
   "cell_type": "code",
   "execution_count": null,
   "id": "a9e8a1ff",
   "metadata": {},
   "outputs": [],
   "source": [
    "# save figure\n",
    "fig = plt.figure(figsize=(.5,2.))\n",
    "ax = fig.add_axes([.05, .8, 0.25, 0.9])\n",
    "\n",
    "# colorbar\n",
    "norm = mpl.colors.Normalize(vmin = data.F1_model.min(), vmax = data.F1_model.max()) \n",
    "cb = mpl.colorbar.ColorbarBase(ax, orientation='vertical', cmap=plt.get_cmap('viridis'), norm=norm)\n",
    "cb.ax.tick_params(labelsize=15)\n",
    "cb.ax.set_title(r'$F(\\mathbf{s})$', fontsize=15)\n",
    "\n",
    "# save plot\n",
    "plt.savefig('output/1d_2.jpg', bbox_inches='tight', pad_inches=0.02, dpi=300)\n",
    "plt.savefig('output/1d_2.pdf', bbox_inches='tight', pad_inches=0.02)\n",
    "plt.show()"
   ]
  },
  {
   "cell_type": "code",
   "execution_count": null,
   "id": "4f5fb467-1c8d-4e1a-a5fe-9f9ab186f931",
   "metadata": {},
   "outputs": [],
   "source": [
    "# subset of the sequence sites\n",
    "sites = [0,1,5,6,9]\n",
    "\n",
    "# maximum Hamming distance for edges\n",
    "d = 1\n",
    "\n",
    "# create figure\n",
    "fig, ax = plt.subplots(figsize=(2.8*5, 2.8), ncols=5, nrows=1, constrained_layout=True)\n",
    "pos = layouts[d]\n",
    "\n",
    "# iteration over sites of interest\n",
    "for i in range(len(sites)):\n",
    "    \n",
    "    # plot edges between mutational neighbors\n",
    "    for x, s1 in enumerate(data.seq):\n",
    "        for y, s2 in enumerate(data.seq[:x]):\n",
    "            if lstoo.dH(s1, s2) == 1:\n",
    "                ax[i].plot([pos[x,0], pos[y,0]], [pos[x,1], pos[y,1]], c='gray', alpha=.025, zorder=-1)\n",
    "\n",
    "    # plot nodes\n",
    "    cs = ['C0' if seq[sites[i]]==0 else 'C1' for seq in data.seq]\n",
    "    im = ax[i].scatter(pos[:,0], pos[:,1], c=cs, s=5) \n",
    "\n",
    "    # layout\n",
    "    ax[i].axis('equal')\n",
    "    ax[i].set_xticks([])\n",
    "    ax[i].set_yticks([])\n",
    "    ax[i].set_title(r'\\texttt{%s}'%(muts[sites[i]]), fontsize=15)\n",
    "    ax[i].axis('off')\n",
    "\n",
    "# save plot\n",
    "plt.savefig('output/s4b_1.jpg', bbox_inches='tight', pad_inches=0.02, dpi=300)\n",
    "plt.savefig('output/s4b_1.pdf', bbox_inches='tight', pad_inches=0.02)\n",
    "plt.show()"
   ]
  },
  {
   "cell_type": "code",
   "execution_count": null,
   "id": "2968ac71-088d-407d-921c-a0dc0abdf66e",
   "metadata": {},
   "outputs": [],
   "source": []
  }
 ],
 "metadata": {
  "kernelspec": {
   "display_name": "Python 3 (ipykernel)",
   "language": "python",
   "name": "python3"
  },
  "language_info": {
   "codemirror_mode": {
    "name": "ipython",
    "version": 3
   },
   "file_extension": ".py",
   "mimetype": "text/x-python",
   "name": "python",
   "nbconvert_exporter": "python",
   "pygments_lexer": "ipython3",
   "version": "3.12.5"
  },
  "toc": {
   "base_numbering": 1,
   "nav_menu": {},
   "number_sections": true,
   "sideBar": true,
   "skip_h1_title": false,
   "title_cell": "Table of Contents",
   "title_sidebar": "Contents",
   "toc_cell": true,
   "toc_position": {},
   "toc_section_display": true,
   "toc_window_display": false
  }
 },
 "nbformat": 4,
 "nbformat_minor": 5
}
