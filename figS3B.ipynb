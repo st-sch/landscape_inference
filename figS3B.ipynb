{
 "cells": [
  {
   "cell_type": "markdown",
   "id": "8de1b0e4-d97e-477c-9e72-87532393bc5a",
   "metadata": {
    "execution": {
     "iopub.execute_input": "2024-10-25T09:05:58.598046Z",
     "iopub.status.busy": "2024-10-25T09:05:58.595614Z",
     "iopub.status.idle": "2024-10-25T09:05:58.605766Z",
     "shell.execute_reply": "2024-10-25T09:05:58.604154Z",
     "shell.execute_reply.started": "2024-10-25T09:05:58.598046Z"
    }
   },
   "source": [
    "# figure S3B"
   ]
  },
  {
   "cell_type": "code",
   "execution_count": null,
   "id": "65039502-6538-4a9b-b88f-cec0f56c3297",
   "metadata": {},
   "outputs": [],
   "source": [
    "import pandas as pd, numpy as np\n",
    "from scipy.stats import pearsonr\n",
    "import matplotlib.pyplot as plt\n",
    "from matplotlib.colors import LogNorm\n",
    "\n",
    "# LaTeX font for plots\n",
    "plt.rcParams.update({\n",
    "    'font.family': 'serif',  # use serif/main font for text elements\n",
    "    'text.usetex': True,     # use inline math for ticks\n",
    "})"
   ]
  },
  {
   "cell_type": "code",
   "execution_count": null,
   "id": "523538a2",
   "metadata": {},
   "outputs": [],
   "source": [
    "# length of sequence and number of spin states\n",
    "L, q = 10, 2\n",
    "# number/name of all sites\n",
    "sites = [26, 27, 28, 31, 35, 50, 53, 56, 57, 58]\n",
    "# names of key mutations (X=V/L/I)\n",
    "muts = ['G26E', 'F27X', 'T28I', 'S31R', 'S35T', 'V50L', 'S53P', 'S56T', 'T57A', 'Y58F']"
   ]
  },
  {
   "cell_type": "markdown",
   "id": "d9bf0383-80d6-4c05-bac5-e93f698cff54",
   "metadata": {},
   "source": [
    "## load fitness models"
   ]
  },
  {
   "cell_type": "code",
   "execution_count": null,
   "id": "1b224d62-3bee-4a48-b0b5-5bd7444a9d8c",
   "metadata": {},
   "outputs": [],
   "source": [
    "# load fitness data for specific model inferred from maximum likelihood\n",
    "data_specific = pd.read_csv('output/1c_fitness_specific.csv')\n",
    "# load fitness data for specific model inferred from Walsh-Hadamard transform\n",
    "data_walsh = pd.read_csv('output/1c_fitness_walsh.csv')\n",
    "# load fitness data for global model\n",
    "data_global = pd.read_csv('output/1b_fitness_global.csv')"
   ]
  },
  {
   "cell_type": "markdown",
   "id": "5c47b0c7-6ee3-4546-b7e2-561148f83f45",
   "metadata": {},
   "source": [
    "## plot dataset correlations"
   ]
  },
  {
   "cell_type": "code",
   "execution_count": null,
   "id": "7a30938b-2d0b-4100-9661-cd07d329ed35",
   "metadata": {},
   "outputs": [],
   "source": [
    "def histo2D(xs, ys):\n",
    "    # function to compute 2D histogram of a scatter\n",
    "    nn, locx, locy = np.histogram2d(xs, ys, bins=np.linspace(-4., 2., 50))\n",
    "    z = np.array([nn[np.argmax(a<=locx[1:]),np.argmax(b<=locy[1:])] for a,b in zip(xs, ys)])\n",
    "    idx = z.argsort()\n",
    "    xs2, ys2, z2 = xs[idx], ys[idx], z[idx]\n",
    "    return xs2, ys2, z2"
   ]
  },
  {
   "cell_type": "code",
   "execution_count": null,
   "id": "65fa97a1-de53-4ab8-8a43-b8b4094e6161",
   "metadata": {},
   "outputs": [],
   "source": [
    "# create figure\n",
    "fig, ax = plt.subplots(figsize=(3.*2, 2.8*2), ncols=2, nrows=2, constrained_layout=True)\n",
    "\n",
    "# ---\n",
    "# empirical (replicate 1) vs specific learning (replicate 1)\n",
    "xs = data_specific.F1_emp - data_specific.F1_emp[0]\n",
    "ys = data_specific.F1_model\n",
    "xs2, ys2, z2 = histo2D(xs, ys)\n",
    "im = ax[1,1].scatter(xs2, ys2, c=z2, cmap='jet', marker='.', norm=LogNorm())\n",
    "\n",
    "ax[1,1].set_xlabel(r'data', fontsize=15)\n",
    "ax[1,1].set_ylabel(r'specific model', fontsize=15)\n",
    "rsq = pearsonr(xs.astype(float), ys.astype(float))[0]**2\n",
    "t = ax[1,1].text(1, -2.75, r'$R^2 = %.2f$'%(rsq), fontsize=15, ha='center', va='center')\n",
    "t.set_bbox(dict(facecolor='white', alpha=1., edgecolor='white'))\n",
    "\n",
    "# ---\n",
    "# empirical (replicate 1) vs empirical (replicate 2)\n",
    "xs = data_specific.F1_emp - data_specific.F1_emp[0]\n",
    "ys = data_specific.F2_emp - data_specific.F2_emp[0]\n",
    "xs2, ys2, z2 = histo2D(xs, ys)\n",
    "im = ax[0,0].scatter(xs2, ys2, c=z2, cmap='jet', marker='.', norm=LogNorm())\n",
    "\n",
    "ax[0,0].set_xlabel(r'data (replicate 1)', fontsize=15)\n",
    "ax[0,0].set_ylabel(r'data (replicate 2)', fontsize=15)\n",
    "rsq = pearsonr(xs.astype(float), ys.astype(float))[0]**2\n",
    "t = ax[0,0].text(1, -2.75, r'$R^2 = %.2f$'%(rsq), fontsize=15, ha='center', va='center')\n",
    "t.set_bbox(dict(facecolor='white', alpha=1., edgecolor='white'))\n",
    "\n",
    "# ---\n",
    "# specific learning (replicate 1) vs specific learning (replicate 2)\n",
    "xs = data_specific.F1_model\n",
    "ys = data_specific.F2_model\n",
    "xs2, ys2, z2 = histo2D(xs, ys)\n",
    "im = ax[0,1].scatter(xs2, ys2, c=z2, cmap='jet', marker='.', norm=LogNorm())\n",
    "\n",
    "ax[0,1].set_xlabel(r'specific model (replicate 1)', fontsize=15)\n",
    "ax[0,1].set_ylabel(r'specific model (replicate 2)', fontsize=15)\n",
    "rsq = pearsonr(xs.astype(float), ys.astype(float))[0]**2\n",
    "t = ax[0,1].text(1, -2.75, r'$R^2 = %.2f$'%(rsq), fontsize=15, ha='center', va='center')\n",
    "t.set_bbox(dict(facecolor='white', alpha=1., edgecolor='white'))\n",
    "\n",
    "# ---\n",
    "# empirical (replicate 1) vs global (replicate 1)\n",
    "xs = data_specific.F1_emp - data_specific.F1_emp[0]\n",
    "ys = data_global.F1_model\n",
    "xs2, ys2, z2 = histo2D(xs, ys)\n",
    "im = ax[1,0].scatter(xs2, ys2, c=z2, cmap='jet', marker='.', norm=LogNorm())\n",
    "\n",
    "ax[1,0].set_xlabel(r'data', fontsize=15)\n",
    "ax[1,0].set_ylabel(r'global model', fontsize=15)\n",
    "rsq = pearsonr(xs.astype(float), ys.astype(float))[0]**2\n",
    "t = ax[1,0].text(1, -2.75, r'$R^2 = %.2f$'%(rsq), fontsize=15, ha='center', va='center')\n",
    "t.set_bbox(dict(facecolor='white', alpha=1., edgecolor='white'))\n",
    "\n",
    "# --- inset\n",
    "ax2 = ax[1,1].inset_axes([0.1,0.575,0.35,0.35])\n",
    "# empirical (replicate 1) vs specific Walsh-Hadamard (replicate 1)\n",
    "xs = data_specific.F1_model\n",
    "ys = data_walsh.F1_model - data_walsh.F1_model[0]\n",
    "xs2, ys2, z2 = histo2D(xs, ys)\n",
    "im = ax2.scatter(xs2, ys2, c=z2, cmap='jet', marker='.', norm=LogNorm())\n",
    "\n",
    "ax2.plot([-100,100], [-100,100], c='k')\n",
    "ax2.set_xlim([-3.5, 2.5])\n",
    "ax2.set_ylim([-3.5, 2.5])\n",
    "ax2.set_xticklabels([])\n",
    "ax2.set_yticklabels([])\n",
    "ax2.set_xlabel(r'learning', fontsize=9, labelpad=-2.5)\n",
    "ax2.set_ylabel(r'Walsh-Hadamard', fontsize=9, labelpad=-5)\n",
    "ax2.grid()\n",
    "rsq = pearsonr(xs.astype(float), ys.astype(float))[0]**2\n",
    "t = ax2.text(.5, -3., r'$R^2 = %.2f$'%(rsq), fontsize=8, ha='center', va='center')\n",
    "t.set_bbox(dict(facecolor='white', alpha=0., edgecolor='white'))\n",
    "\n",
    "# layout\n",
    "for i in range(2):\n",
    "    for j in range(2):\n",
    "        ax[i,j].plot([-100,100], [-100,100], c='k')\n",
    "        ax[i,j].set_xlim([-3.5, 2.5])\n",
    "        ax[i,j].set_ylim([-3.5, 2.5])\n",
    "        ax[i,j].tick_params(labelsize=15)\n",
    "        ax[i,j].grid()\n",
    "\n",
    "# save plot\n",
    "plt.savefig('output/s3b_1.jpg', bbox_inches='tight', pad_inches=0.02)\n",
    "plt.savefig('output/s3b_1.pdf', bbox_inches='tight', pad_inches=0.02)\n",
    "plt.show()"
   ]
  },
  {
   "cell_type": "code",
   "execution_count": null,
   "id": "3c7bc2a8-4801-4547-abbf-bfc4210c3b3a",
   "metadata": {},
   "outputs": [],
   "source": []
  }
 ],
 "metadata": {
  "kernelspec": {
   "display_name": "Python 3 (ipykernel)",
   "language": "python",
   "name": "python3"
  },
  "language_info": {
   "codemirror_mode": {
    "name": "ipython",
    "version": 3
   },
   "file_extension": ".py",
   "mimetype": "text/x-python",
   "name": "python",
   "nbconvert_exporter": "python",
   "pygments_lexer": "ipython3",
   "version": "3.12.5"
  },
  "toc": {
   "base_numbering": 1,
   "nav_menu": {},
   "number_sections": true,
   "sideBar": true,
   "skip_h1_title": false,
   "title_cell": "Table of Contents",
   "title_sidebar": "Contents",
   "toc_cell": true,
   "toc_position": {},
   "toc_section_display": true,
   "toc_window_display": false
  }
 },
 "nbformat": 4,
 "nbformat_minor": 5
}
